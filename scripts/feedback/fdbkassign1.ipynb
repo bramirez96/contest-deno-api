{
 "cells": [
  {
   "cell_type": "code",
   "execution_count": 1,
   "metadata": {},
   "outputs": [],
   "source": [
    "#mock list for trial and error\n",
    "ISubItem_id = [3452, 3647, 3948, 3829, 3928, 3726, 3958, 3792, 3190, 3523, 3409, 3822]\n",
    "ISubItem_userId = [93049, 90384, 93740, 94873, 94728, 92516, 93647, 92627, 91738, 93782, 93722, 93627]"
   ]
  },
  {
   "cell_type": "code",
   "execution_count": 2,
   "metadata": {},
   "outputs": [],
   "source": [
    "import random\n"
   ]
  },
  {
   "cell_type": "markdown",
   "metadata": {},
   "source": [
    "##### Originally I thought adding a 1,2,3 to each list would help in ensuring each student id recieved 3 different feedback submissions.  Upon further work I found that just creating 3 lists that were shuffled to be more effective.   The reason being you can use a while loop to check and see if the lists have any index values that are the same and if so you reshuffle a list until they aren't.  This seems to have fixed the issue where when I shuffled the lists and created the dictionary it seemed to always have 1-3 case of having the same entry assigned to an id."
   ]
  },
  {
   "cell_type": "code",
   "execution_count": 4,
   "metadata": {},
   "outputs": [],
   "source": [
    "submissions = ISubItem_id #iSubItem, object list\n",
    "# results1 = []\n",
    "# results2 = []\n",
    "# results3 = []\n",
    "# #creates 3 seperate sets with 1,2,3 added\n",
    "# for i, j in enumerate(submissions):\n",
    "#     assignid1 = str(submissions[i]) + ('1')\n",
    "#     results1.append(assignid1)\n",
    "#     assignid2 = str(submissions[i]) + ('2')\n",
    "#     results2.append(assignid2)\n",
    "#     assignid3 = str(submissions[i]) + ('3')\n",
    "#     results3.append(assignid3)\n",
    "\n",
    "# print(results1, results2, results3)"
   ]
  },
  {
   "cell_type": "code",
   "execution_count": 35,
   "metadata": {},
   "outputs": [
    {
     "name": "stdout",
     "output_type": "stream",
     "text": [
      "shuffled1: [3523, 3928, 3958, 3822, 3409, 3190, 3829, 3726, 3792, 3452, 3948, 3647] shuffled2: [3452, 3190, 3523, 3948, 3409, 3726, 3928, 3829, 3958, 3822, 3647, 3792] shuffled3: [3726, 3452, 3948, 3409, 3190, 3647, 3523, 3958, 3822, 3928, 3829, 3792]\n"
     ]
    }
   ],
   "source": [
    "#randomly shuffle lists 2 and 3\n",
    "shuffle1 = random.sample(submissions, len(submissions))\n",
    "shuffle2 = random.sample(shuffle1, len(shuffle1))\n",
    "# while any(i == j for i, j in zip(shuffle1, shuffle2)):\n",
    "# for i in shuffle1:\n",
    "#     while i in range(shuffle1[0]):\n",
    "#         if i in range(shuffle2[0]):\n",
    "#             random.sample(shuffle2, len(shuffle2))\n",
    "#     break\n",
    "shuffle3 = random.sample(shuffle2, len(shuffle2))\n",
    "# while any(j == k for j, k in zip(shuffle2, shuffle3)):\n",
    "#     random.sample(shuffle3, len(shuffle3))\n",
    "#     break\n",
    "print('shuffled1:',shuffle1, 'shuffled2:',shuffle2, 'shuffled3:',shuffle3)"
   ]
  },
  {
   "cell_type": "code",
   "execution_count": 39,
   "metadata": {},
   "outputs": [
    {
     "name": "stdout",
     "output_type": "stream",
     "text": [
      "Wont work\n",
      "Wont work\n",
      "shuffled1: [3928, 3190, 3792, 3822, 3958, 3523, 3948, 3829, 3726, 3409, 3647, 3452] shuffled2: [3523, 3792, 3948, 3409, 3726, 3452, 3958, 3822, 3829, 3647, 3928, 3190] shuffled3: [3948, 3452, 3647, 3928, 3792, 3822, 3190, 3523, 3409, 3726, 3829, 3958]\n"
     ]
    }
   ],
   "source": [
    "for i,j,k in zip(shuffle1, shuffle2, shuffle3):\n",
    "    if i == j or i ==k or j==k:\n",
    "        print('Wont work')\n",
    "        random.shuffle(shuffle1)\n",
    "        random.shuffle(shuffle2)\n",
    "        random.shuffle(shuffle3)\n",
    "print('shuffled1:',shuffle1, 'shuffled2:',shuffle2, 'shuffled3:',shuffle3)"
   ]
  },
  {
   "cell_type": "code",
   "execution_count": 40,
   "metadata": {},
   "outputs": [
    {
     "name": "stdout",
     "output_type": "stream",
     "text": [
      "[[3928, 3523, 3948], [3190, 3792, 3452], [3792, 3948, 3647], [3822, 3409, 3928], [3958, 3726, 3792], [3523, 3452, 3822], [3948, 3958, 3190], [3829, 3822, 3523], [3726, 3829, 3409], [3409, 3647, 3726], [3647, 3928, 3829], [3452, 3190, 3958]]\n"
     ]
    }
   ],
   "source": [
    "#creates lists with 1,2,3 combined for use as value pairs for student id key\n",
    "nested = [[i,j,k] for i,j,k in zip((shuffle1), (shuffle2), (shuffle3))]\n",
    "print(nested)"
   ]
  },
  {
   "cell_type": "code",
   "execution_count": 41,
   "metadata": {},
   "outputs": [
    {
     "name": "stdout",
     "output_type": "stream",
     "text": [
      "{93049: [3928, 3523, 3948], 90384: [3190, 3792, 3452], 93740: [3792, 3948, 3647], 94873: [3822, 3409, 3928], 94728: [3958, 3726, 3792], 92516: [3523, 3452, 3822], 93647: [3948, 3958, 3190], 92627: [3829, 3822, 3523], 91738: [3726, 3829, 3409], 93782: [3409, 3647, 3726], 93722: [3647, 3928, 3829], 93627: [3452, 3190, 3958]}\n"
     ]
    }
   ],
   "source": [
    "## Assign each student id as a key and each list of 3 as the value pair.\n",
    "fdbkassigned = {}\n",
    "for key in ISubItem_userId:\n",
    "    for value in nested:\n",
    "        fdbkassigned[key]=value\n",
    "        nested.remove(value)\n",
    "        break\n",
    "print(fdbkassigned)"
   ]
  },
  {
   "cell_type": "code",
   "execution_count": null,
   "metadata": {},
   "outputs": [],
   "source": []
  }
 ],
 "metadata": {
  "kernelspec": {
   "display_name": "Python 3",
   "language": "python",
   "name": "python3"
  },
  "language_info": {
   "codemirror_mode": {
    "name": "ipython",
    "version": 3
   },
   "file_extension": ".py",
   "mimetype": "text/x-python",
   "name": "python",
   "nbconvert_exporter": "python",
   "pygments_lexer": "ipython3",
   "version": "3.8.5"
  }
 },
 "nbformat": 4,
 "nbformat_minor": 4
}
