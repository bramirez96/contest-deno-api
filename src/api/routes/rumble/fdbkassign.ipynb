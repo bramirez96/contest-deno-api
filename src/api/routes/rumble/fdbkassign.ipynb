{
 "cells": [
  {
   "cell_type": "code",
   "execution_count": 143,
   "metadata": {},
   "outputs": [],
   "source": [
    "ISubItem = [3452, 3647, 3948, 3829, 3928, 3726]"
   ]
  },
  {
   "cell_type": "code",
   "execution_count": 144,
   "metadata": {},
   "outputs": [],
   "source": [
    "import random"
   ]
  },
  {
   "cell_type": "code",
   "execution_count": 145,
   "metadata": {},
   "outputs": [
    {
     "name": "stdout",
     "output_type": "stream",
     "text": [
      "['34521', '36471', '39481', '38291', '39281', '37261'] ['34522', '36472', '39482', '38292', '39282', '37262'] ['34523', '36473', '39483', '38293', '39283', '37263']\n"
     ]
    }
   ],
   "source": [
    "submissions = ISubItem #iSubItem, object list\n",
    "results1 = []\n",
    "results2 = []\n",
    "results3 = []\n",
    "#creates 3 seperate sets with 1,2,3 added\n",
    "for i, j in enumerate(submissions):\n",
    "    assignid1 = str(submissions[i]) + ('1')\n",
    "    results1.append(assignid1)\n",
    "    assignid2 = str(submissions[i]) + ('2')\n",
    "    results2.append(assignid2)\n",
    "    assignid3 = str(submissions[i]) + ('3')\n",
    "    results3.append(assignid3)\n",
    "\n",
    "print(results1, results2, results3)"
   ]
  },
  {
   "cell_type": "code",
   "execution_count": 146,
   "metadata": {},
   "outputs": [
    {
     "name": "stdout",
     "output_type": "stream",
     "text": [
      "['34521', '36471', '39481', '38291', '39281', '37261'] ['39282', '36472', '39482', '37262', '38292', '34522'] ['37263', '34523', '39283', '36473', '39483', '38293']\n"
     ]
    }
   ],
   "source": [
    "#randomly shuffle lists 2 and 3\n",
    "shuf_res1 = results1\n",
    "shuf_res2 = random.sample(results2, len(results2))\n",
    "shuf_res3 = random.sample(results3, len(results3))\n",
    "print(shuf_res1, shuf_res2, shuf_res3)"
   ]
  },
  {
   "cell_type": "code",
   "execution_count": 147,
   "metadata": {},
   "outputs": [],
   "source": [
    "\n",
    "studentid = [93049, 90384, 93740, 94873, 94728, 92516]    "
   ]
  },
  {
   "cell_type": "code",
   "execution_count": 148,
   "metadata": {},
   "outputs": [
    {
     "name": "stdout",
     "output_type": "stream",
     "text": [
      "[['34521', '39282', '37263'], ['36471', '36472', '34523'], ['39481', '39482', '39283'], ['38291', '37262', '36473'], ['39281', '38292', '39483'], ['37261', '34522', '38293']]\n"
     ]
    }
   ],
   "source": [
    "#creates lists with 1,2,3 combined for use as value pairs for student id key\n",
    "nested = [[i,j,k] for i,j,k in zip((shuf_res1), (shuf_res2), (shuf_res3))]\n",
    "print(nested)"
   ]
  },
  {
   "cell_type": "code",
   "execution_count": 149,
   "metadata": {},
   "outputs": [
    {
     "name": "stdout",
     "output_type": "stream",
     "text": [
      "{93049: ['37261', '34522', '38293'], 90384: ['37261', '34522', '38293'], 93740: ['37261', '34522', '38293'], 94873: ['37261', '34522', '38293'], 94728: ['37261', '34522', '38293'], 92516: ['37261', '34522', '38293']}\n"
     ]
    }
   ],
   "source": [
    "## Assign each student id as a key and each list of 3 as the value pair.\n",
    "fdbkassigned = {}\n",
    "for i in studentid:\n",
    "    for j in nested:\n",
    "        fdbkassigned[i]=j\n",
    "print(fdbkassigned)"
   ]
  },
  {
   "cell_type": "code",
   "execution_count": null,
   "metadata": {},
   "outputs": [],
   "source": []
  }
 ],
 "metadata": {
  "kernelspec": {
   "display_name": "Python 3",
   "language": "python",
   "name": "python3"
  },
  "language_info": {
   "codemirror_mode": {
    "name": "ipython",
    "version": 3
   },
   "file_extension": ".py",
   "mimetype": "text/x-python",
   "name": "python",
   "nbconvert_exporter": "python",
   "pygments_lexer": "ipython3",
   "version": "3.8.5"
  }
 },
 "nbformat": 4,
 "nbformat_minor": 4
}
